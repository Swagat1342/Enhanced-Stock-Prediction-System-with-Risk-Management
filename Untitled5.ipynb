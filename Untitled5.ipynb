{
  "nbformat": 4,
  "nbformat_minor": 0,
  "metadata": {
    "colab": {
      "provenance": [],
      "authorship_tag": "ABX9TyMyf6qkuvrFOsf4Oz2hMjMr",
      "include_colab_link": true
    },
    "kernelspec": {
      "name": "python3",
      "display_name": "Python 3"
    },
    "language_info": {
      "name": "python"
    }
  },
  "cells": [
    {
      "cell_type": "markdown",
      "metadata": {
        "id": "view-in-github",
        "colab_type": "text"
      },
      "source": [
        "<a href=\"https://colab.research.google.com/github/Swagat1342/Enhanced-Stock-Prediction-System-with-Risk-Management/blob/main/Untitled5.ipynb\" target=\"_parent\"><img src=\"https://colab.research.google.com/assets/colab-badge.svg\" alt=\"Open In Colab\"/></a>"
      ]
    },
    {
      "cell_type": "code",
      "execution_count": null,
      "metadata": {
        "id": "PN6fhiXV27_O"
      },
      "outputs": [],
      "source": [
        "import numpy as np\n",
        "import pandas as pd\n",
        "import matplotlib.pyplot as plt\n",
        "import seaborn as sns"
      ]
    },
    {
      "cell_type": "code",
      "metadata": {
        "colab": {
          "base_uri": "https://localhost:8080/"
        },
        "id": "f9cdda51",
        "outputId": "e102fda2-af20-43db-f357-adc3ef133dd0"
      },
      "source": [
        "!pip install yfinance"
      ],
      "execution_count": null,
      "outputs": [
        {
          "output_type": "stream",
          "name": "stdout",
          "text": [
            "Requirement already satisfied: yfinance in /usr/local/lib/python3.12/dist-packages (0.2.66)\n",
            "Requirement already satisfied: pandas>=1.3.0 in /usr/local/lib/python3.12/dist-packages (from yfinance) (2.2.2)\n",
            "Requirement already satisfied: numpy>=1.16.5 in /usr/local/lib/python3.12/dist-packages (from yfinance) (2.0.2)\n",
            "Requirement already satisfied: requests>=2.31 in /usr/local/lib/python3.12/dist-packages (from yfinance) (2.32.4)\n",
            "Requirement already satisfied: multitasking>=0.0.7 in /usr/local/lib/python3.12/dist-packages (from yfinance) (0.0.12)\n",
            "Requirement already satisfied: platformdirs>=2.0.0 in /usr/local/lib/python3.12/dist-packages (from yfinance) (4.4.0)\n",
            "Requirement already satisfied: pytz>=2022.5 in /usr/local/lib/python3.12/dist-packages (from yfinance) (2025.2)\n",
            "Requirement already satisfied: frozendict>=2.3.4 in /usr/local/lib/python3.12/dist-packages (from yfinance) (2.4.6)\n",
            "Requirement already satisfied: peewee>=3.16.2 in /usr/local/lib/python3.12/dist-packages (from yfinance) (3.18.2)\n",
            "Requirement already satisfied: beautifulsoup4>=4.11.1 in /usr/local/lib/python3.12/dist-packages (from yfinance) (4.13.5)\n",
            "Requirement already satisfied: curl_cffi>=0.7 in /usr/local/lib/python3.12/dist-packages (from yfinance) (0.13.0)\n",
            "Requirement already satisfied: protobuf>=3.19.0 in /usr/local/lib/python3.12/dist-packages (from yfinance) (5.29.5)\n",
            "Requirement already satisfied: websockets>=13.0 in /usr/local/lib/python3.12/dist-packages (from yfinance) (15.0.1)\n",
            "Requirement already satisfied: soupsieve>1.2 in /usr/local/lib/python3.12/dist-packages (from beautifulsoup4>=4.11.1->yfinance) (2.8)\n",
            "Requirement already satisfied: typing-extensions>=4.0.0 in /usr/local/lib/python3.12/dist-packages (from beautifulsoup4>=4.11.1->yfinance) (4.15.0)\n",
            "Requirement already satisfied: cffi>=1.12.0 in /usr/local/lib/python3.12/dist-packages (from curl_cffi>=0.7->yfinance) (2.0.0)\n",
            "Requirement already satisfied: certifi>=2024.2.2 in /usr/local/lib/python3.12/dist-packages (from curl_cffi>=0.7->yfinance) (2025.8.3)\n",
            "Requirement already satisfied: python-dateutil>=2.8.2 in /usr/local/lib/python3.12/dist-packages (from pandas>=1.3.0->yfinance) (2.9.0.post0)\n",
            "Requirement already satisfied: tzdata>=2022.7 in /usr/local/lib/python3.12/dist-packages (from pandas>=1.3.0->yfinance) (2025.2)\n",
            "Requirement already satisfied: charset_normalizer<4,>=2 in /usr/local/lib/python3.12/dist-packages (from requests>=2.31->yfinance) (3.4.3)\n",
            "Requirement already satisfied: idna<4,>=2.5 in /usr/local/lib/python3.12/dist-packages (from requests>=2.31->yfinance) (3.10)\n",
            "Requirement already satisfied: urllib3<3,>=1.21.1 in /usr/local/lib/python3.12/dist-packages (from requests>=2.31->yfinance) (2.5.0)\n",
            "Requirement already satisfied: pycparser in /usr/local/lib/python3.12/dist-packages (from cffi>=1.12.0->curl_cffi>=0.7->yfinance) (2.23)\n",
            "Requirement already satisfied: six>=1.5 in /usr/local/lib/python3.12/dist-packages (from python-dateutil>=2.8.2->pandas>=1.3.0->yfinance) (1.17.0)\n"
          ]
        }
      ]
    },
    {
      "cell_type": "code",
      "metadata": {
        "id": "6cc0d8a3",
        "colab": {
          "base_uri": "https://localhost:8080/"
        },
        "outputId": "fbbd0079-fc5d-4757-b38e-c80ee1e789eb"
      },
      "source": [
        "import yfinance as yf\n",
        "\n",
        "# Define the ticker symbol for the desired stock\n",
        "ticker = yf.Ticker(\"TATAMOTORS.NS\")\n",
        "\n",
        "# Get historical market data for Apple\n",
        "hist_data = ticker.history(period=\"1mo\") # data for the last 1 month\n",
        "\n",
        "print(hist_data)\n",
        "\n",
        "# Get stock info\n",
        "info = ticker.info\n",
        "print(info)\n",
        "\n",
        "# Get dividends\n",
        "dividends = ticker.dividends\n",
        "print(dividends)"
      ],
      "execution_count": null,
      "outputs": [
        {
          "output_type": "stream",
          "name": "stdout",
          "text": [
            "                                 Open        High         Low       Close  \\\n",
            "Date                                                                        \n",
            "2025-09-03 00:00:00+05:30  688.000000  693.450012  685.000000  692.049988   \n",
            "2025-09-04 00:00:00+05:30  705.900024  706.349976  685.700012  687.500000   \n",
            "2025-09-05 00:00:00+05:30  690.900024  697.349976  683.099976  691.700012   \n",
            "2025-09-08 00:00:00+05:30  695.000000  722.000000  694.049988  719.500000   \n",
            "2025-09-09 00:00:00+05:30  721.150024  722.250000  713.500000  715.549988   \n",
            "2025-09-10 00:00:00+05:30  717.650024  720.000000  702.700012  709.099976   \n",
            "2025-09-11 00:00:00+05:30  710.200012  712.000000  704.549988  705.849976   \n",
            "2025-09-12 00:00:00+05:30  708.000000  718.900024  707.349976  715.250000   \n",
            "2025-09-15 00:00:00+05:30  715.299988  721.950012  711.549988  712.900024   \n",
            "2025-09-16 00:00:00+05:30  715.000000  719.700012  705.000000  713.250000   \n",
            "2025-09-17 00:00:00+05:30  715.000000  722.950012  714.299988  719.150024   \n",
            "2025-09-18 00:00:00+05:30  722.000000  725.250000  707.599976  711.200012   \n",
            "2025-09-19 00:00:00+05:30  713.500000  713.500000  704.950012  707.450012   \n",
            "2025-09-22 00:00:00+05:30  709.000000  712.000000  694.849976  696.250000   \n",
            "2025-09-23 00:00:00+05:30  701.799988  707.799988  697.000000  701.349976   \n",
            "2025-09-24 00:00:00+05:30  700.500000  703.299988  681.299988  682.950012   \n",
            "2025-09-25 00:00:00+05:30  669.900024  675.000000  655.299988  664.299988   \n",
            "2025-09-26 00:00:00+05:30  666.000000  680.349976  662.349976  672.900024   \n",
            "2025-09-29 00:00:00+05:30  684.000000  685.000000  670.000000  672.500000   \n",
            "2025-09-30 00:00:00+05:30  672.000000  683.500000  666.650024  680.200012   \n",
            "2025-10-01 00:00:00+05:30  681.000000  720.000000  679.200012  718.349976   \n",
            "2025-10-02 00:00:00+05:30  718.349976  718.349976  718.349976  718.349976   \n",
            "2025-10-03 00:00:00+05:30  718.500000  739.700012  715.000000  716.099976   \n",
            "\n",
            "                             Volume  Dividends  Stock Splits  \n",
            "Date                                                          \n",
            "2025-09-03 00:00:00+05:30   6094892        0.0           0.0  \n",
            "2025-09-04 00:00:00+05:30  13439418        0.0           0.0  \n",
            "2025-09-05 00:00:00+05:30   6692975        0.0           0.0  \n",
            "2025-09-08 00:00:00+05:30  20531027        0.0           0.0  \n",
            "2025-09-09 00:00:00+05:30   9409853        0.0           0.0  \n",
            "2025-09-10 00:00:00+05:30  10363493        0.0           0.0  \n",
            "2025-09-11 00:00:00+05:30   5530633        0.0           0.0  \n",
            "2025-09-12 00:00:00+05:30   8252416        0.0           0.0  \n",
            "2025-09-15 00:00:00+05:30   6007524        0.0           0.0  \n",
            "2025-09-16 00:00:00+05:30   9765743        0.0           0.0  \n",
            "2025-09-17 00:00:00+05:30  11872451        0.0           0.0  \n",
            "2025-09-18 00:00:00+05:30  12199357        0.0           0.0  \n",
            "2025-09-19 00:00:00+05:30  12127319        0.0           0.0  \n",
            "2025-09-22 00:00:00+05:30   9688597        0.0           0.0  \n",
            "2025-09-23 00:00:00+05:30  11904667        0.0           0.0  \n",
            "2025-09-24 00:00:00+05:30  13252215        0.0           0.0  \n",
            "2025-09-25 00:00:00+05:30  24687611        0.0           0.0  \n",
            "2025-09-26 00:00:00+05:30  15780434        0.0           0.0  \n",
            "2025-09-29 00:00:00+05:30  13014474        0.0           0.0  \n",
            "2025-09-30 00:00:00+05:30  15001606        0.0           0.0  \n",
            "2025-10-01 00:00:00+05:30  30163206        0.0           0.0  \n",
            "2025-10-02 00:00:00+05:30         0        0.0           0.0  \n",
            "2025-10-03 00:00:00+05:30  27786917        0.0           0.0  \n",
            "{'address1': 'Ahura Centre', 'address2': '4th Floor 82 Mahakali Caves Road, MIDC Andheri (East)', 'city': 'Mumbai', 'zip': '400 093', 'country': 'India', 'phone': '91 22 6240 7101', 'website': 'https://www.tatamotors.com', 'industry': 'Auto Manufacturers', 'industryKey': 'auto-manufacturers', 'industryDisp': 'Auto Manufacturers', 'sector': 'Consumer Cyclical', 'sectorKey': 'consumer-cyclical', 'sectorDisp': 'Consumer Cyclical', 'longBusinessSummary': 'Tata Motors Limited designs, develops, manufactures, and sells various automotive vehicles. It operates through Automotive and Others segments. The company offers passenger cars; sports utility vehicles; intermediate and light commercial vehicles; small, medium, and heavy commercial vehicles; defense vehicles; pickups, wingers, buses, vans, and trucks; and electric vehicles, as well as related spare parts and accessories. It also manufactures engines for industrial applications, and aggregates comprising axles and transmissions for commercial vehicles; and factory automation equipment, as well as provides information technology, insurance broking, and vehicle financing services. The company offers its products under the Tata, Daewoo, Harrier, Safari, Curvv, Nexon, Altroz, Punch, Tiago, Tigor, Jaguar, and Land Rover brands. It operates in India, China, the United States, the United Kingdom, rest of Europe, and internationally. The company offers its products to fleet owners, transporters, government agencies, defense, public transport utilities, small and medium enterprises (SMEs), agriculture and rural segment, mining and construction industry, etc. Tata Motors Limited was incorporated in 1945 and is headquartered in Mumbai, India.', 'fullTimeEmployees': 86259, 'companyOfficers': [{'maxAge': 1, 'name': 'Mr. Pathamadai Balachandran Balaji', 'age': 55, 'title': 'Group Chief Financial Officer', 'yearBorn': 1969, 'fiscalYear': 2025, 'totalPay': 155604000, 'exercisedValue': 0, 'unexercisedValue': 0}, {'maxAge': 1, 'name': 'Mr. Maloy Kumar Gupta', 'age': 53, 'title': 'Compliance Officer & Company Secretary', 'yearBorn': 1971, 'fiscalYear': 2025, 'totalPay': 20873000, 'exercisedValue': 0, 'unexercisedValue': 0}, {'maxAge': 1, 'name': 'Mr. Girish Arun Wagh', 'age': 54, 'title': 'President of Commercial Vehicles Business Unit & Executive Director', 'yearBorn': 1970, 'fiscalYear': 2025, 'totalPay': 72258000, 'exercisedValue': 0, 'unexercisedValue': 0}, {'maxAge': 1, 'name': 'Mr. Petkar M. Rajendra Be, M Tech', 'age': 57, 'title': 'CTO & President', 'yearBorn': 1967, 'fiscalYear': 2025, 'exercisedValue': 0, 'unexercisedValue': 0}, {'maxAge': 1, 'name': 'Mr. Rajesh  Kannan', 'title': 'President and Chief Digital & Information Officer', 'fiscalYear': 2025, 'exercisedValue': 0, 'unexercisedValue': 0}, {'maxAge': 1, 'name': 'Ms. Namrata  Divekar', 'title': 'Head of Treasury and Investor Relations', 'fiscalYear': 2025, 'exercisedValue': 0, 'unexercisedValue': 0}, {'maxAge': 1, 'name': 'Mr. Sudeep  Bhalla', 'title': 'Head of Corporate Communications', 'fiscalYear': 2025, 'exercisedValue': 0, 'unexercisedValue': 0}, {'maxAge': 1, 'name': 'Mr. Shubhranshu  Singh', 'title': 'Vice President of Marketing of Domestic & International business', 'fiscalYear': 2025, 'exercisedValue': 0, 'unexercisedValue': 0}, {'maxAge': 1, 'name': 'Mr. Ravneet  Singh', 'title': 'General Manager & Head of Corporate HR', 'fiscalYear': 2025, 'exercisedValue': 0, 'unexercisedValue': 0}, {'maxAge': 1, 'name': 'Mr. R.  Ramakrishnan', 'age': 61, 'title': 'Global Head of Customer Care', 'yearBorn': 1963, 'fiscalYear': 2025, 'exercisedValue': 0, 'unexercisedValue': 0}], 'auditRisk': 6, 'boardRisk': 4, 'compensationRisk': 8, 'shareHolderRightsRisk': 6, 'overallRisk': 7, 'governanceEpochDate': 1759276800, 'compensationAsOfEpochDate': 1767139200, 'executiveTeam': [], 'maxAge': 86400, 'priceHint': 2, 'previousClose': 718.35, 'open': 718.5, 'dayLow': 715.0, 'dayHigh': 739.7, 'regularMarketPreviousClose': 718.35, 'regularMarketOpen': 718.5, 'regularMarketDayLow': 715.0, 'regularMarketDayHigh': 739.7, 'dividendRate': 6.0, 'dividendYield': 0.84, 'exDividendDate': 1748995200, 'payoutRatio': 0.098500006, 'fiveYearAvgDividendYield': 1.11, 'beta': 1.012, 'trailingPE': 11.7468, 'volume': 27786917, 'regularMarketVolume': 27786917, 'averageVolume': 10803401, 'averageVolume10days': 17919969, 'averageDailyVolume10Day': 17919969, 'bid': 0.0, 'ask': 0.0, 'bidSize': 0, 'askSize': 0, 'marketCap': 2635956224000, 'fiftyTwoWeekLow': 535.75, 'fiftyTwoWeekHigh': 948.45, 'allTimeHigh': 1179.0, 'allTimeLow': 11.02834, 'priceToSalesTrailing12Months': 0.60319364, 'fiftyDayAverage': 684.498, 'twoHundredDayAverage': 688.51825, 'trailingAnnualDividendRate': 0.0, 'trailingAnnualDividendYield': 0.0, 'currency': 'INR', 'tradeable': False, 'enterpriseValue': 2823373717504, 'forwardPE': 11.0200405, 'profitMargins': 0.048600003, 'floatShares': 1959103360, 'sharesOutstanding': 3682274653, 'heldPercentInsiders': 0.44127998, 'heldPercentInstitutions': 0.23555, 'impliedSharesOutstanding': 3682274653, 'bookValue': 315.493, 'priceToBook': 2.2689884, 'lastFiscalYearEnd': 1743379200, 'nextFiscalYearEnd': 1774915200, 'mostRecentQuarter': 1751241600, 'earningsQuarterlyGrowth': -0.295, 'netIncomeToCommon': 212399996928, 'trailingEps': 60.94, 'lastSplitFactor': '5:1', 'lastSplitDate': 1315785600, 'enterpriseToRevenue': 0.646, 'enterpriseToEbitda': 6.696, '52WeekChange': -0.22821575, 'SandP52WeekChange': 0.17904854, 'lastDividendValue': 6.0, 'lastDividendDate': 1748995200, 'quoteType': 'EQUITY', 'currentPrice': 715.85, 'targetHighPrice': 1300.0, 'targetLowPrice': 575.0, 'targetMeanPrice': 766.85187, 'targetMedianPrice': 732.0, 'recommendationMean': 2.62963, 'recommendationKey': 'hold', 'numberOfAnalystOpinions': 27, 'totalCash': 674279981056, 'totalCashPerShare': 183.161, 'ebitda': 421660000256, 'totalDebt': 770700017664, 'totalRevenue': 4369999986688, 'debtToEquity': 61.549, 'revenuePerShare': 1187.161, 'grossProfits': 1954049949696, 'revenueGrowth': -0.034, 'grossMargins': 0.44715, 'ebitdaMargins': 0.09649, 'operatingMargins': 0.05673, 'financialCurrency': 'INR', 'symbol': 'TATAMOTORS.NS', 'language': 'en-US', 'region': 'US', 'typeDisp': 'Equity', 'quoteSourceName': 'Delayed Quote', 'triggerable': True, 'customPriceAlertConfidence': 'HIGH', 'exchange': 'NSI', 'messageBoardId': 'finmb_874652', 'exchangeTimezoneName': 'Asia/Kolkata', 'exchangeTimezoneShortName': 'IST', 'gmtOffSetMilliseconds': 19800000, 'market': 'in_market', 'esgPopulated': False, 'shortName': 'TATA MOTORS LIMITED', 'longName': 'Tata Motors Limited', 'marketState': 'PREPRE', 'fiftyTwoWeekChangePercent': -22.821575, 'earningsTimestamp': 1763114400, 'earningsTimestampStart': 1763114400, 'earningsTimestampEnd': 1763114400, 'earningsCallTimestampStart': 1754658000, 'earningsCallTimestampEnd': 1754658000, 'isEarningsDateEstimate': True, 'epsTrailingTwelveMonths': 60.94, 'epsCurrentYear': 52.80058, 'priceEpsCurrentYear': 13.557616, 'fiftyDayAverageChange': 31.35199, 'fiftyDayAverageChangePercent': 0.045802895, 'twoHundredDayAverageChange': 27.331726, 'twoHundredDayAverageChangePercent': 0.039696444, 'sourceInterval': 15, 'exchangeDataDelayedBy': 15, 'averageAnalystRating': '2.6 - Hold', 'cryptoTradeable': False, 'regularMarketChangePercent': -0.34801978, 'regularMarketPrice': 715.85, 'corporateActions': [], 'regularMarketTime': 1759485600, 'hasPrePostMarketData': False, 'firstTradeDateMilliseconds': 662787900000, 'regularMarketChange': -2.5, 'regularMarketDayRange': '715.0 - 739.7', 'fullExchangeName': 'NSE', 'averageDailyVolume3Month': 10803401, 'fiftyTwoWeekLowChange': 180.09998, 'fiftyTwoWeekLowChangePercent': 0.3361642, 'fiftyTwoWeekRange': '535.75 - 948.45', 'fiftyTwoWeekHighChange': -232.60004, 'fiftyTwoWeekHighChangePercent': -0.24524227, 'trailingPegRatio': None}\n",
            "Date\n",
            "1994-06-03 00:00:00+05:30    0.479076\n",
            "1995-06-07 00:00:00+05:30    0.598846\n",
            "1996-06-11 00:00:00+05:30    1.149784\n",
            "1997-05-12 00:00:00+05:30    1.533045\n",
            "1998-06-09 00:00:00+05:30    1.053968\n",
            "1999-06-17 00:00:00+05:30    0.574892\n",
            "2000-06-13 00:00:00+05:30    0.479076\n",
            "2003-06-30 00:00:00+05:30    0.766522\n",
            "2004-02-12 00:00:00+05:30    0.766522\n",
            "2004-06-22 00:00:00+05:30    0.766522\n",
            "2005-06-23 00:00:00+05:30    2.395382\n",
            "2006-06-23 00:00:00+05:30    2.491198\n",
            "2007-06-01 00:00:00+05:30    2.874459\n",
            "2008-06-16 00:00:00+05:30    2.874459\n",
            "2009-08-03 00:00:00+05:30    1.187265\n",
            "2010-08-10 00:00:00+05:30    2.968163\n",
            "2011-07-19 00:00:00+05:30    3.957551\n",
            "2012-07-18 00:00:00+05:30    3.957551\n",
            "2013-07-30 00:00:00+05:30    1.978776\n",
            "2014-07-09 00:00:00+05:30    1.978776\n",
            "2016-07-18 00:00:00+05:30    0.200000\n",
            "2023-07-28 00:00:00+05:30    2.000000\n",
            "2024-06-11 00:00:00+05:30    6.000000\n",
            "2025-06-04 00:00:00+05:30    6.000000\n",
            "Name: Dividends, dtype: float64\n"
          ]
        }
      ]
    },
    {
      "cell_type": "code",
      "source": [],
      "metadata": {
        "id": "GPB6Ks-o7cY2"
      },
      "execution_count": null,
      "outputs": []
    }
  ]
}