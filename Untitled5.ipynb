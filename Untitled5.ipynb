{
  "nbformat": 4,
  "nbformat_minor": 0,
  "metadata": {
    "colab": {
      "provenance": [],
      "authorship_tag": "ABX9TyPJJ7J8/wq5779+YVFEZVyU",
      "include_colab_link": true
    },
    "kernelspec": {
      "name": "python3",
      "display_name": "Python 3"
    },
    "language_info": {
      "name": "python"
    }
  },
  "cells": [
    {
      "cell_type": "markdown",
      "metadata": {
        "id": "view-in-github",
        "colab_type": "text"
      },
      "source": [
        "<a href=\"https://colab.research.google.com/github/Swagat1342/Enhanced-Stock-Prediction-System-with-Risk-Management/blob/main/Untitled5.ipynb\" target=\"_parent\"><img src=\"https://colab.research.google.com/assets/colab-badge.svg\" alt=\"Open In Colab\"/></a>"
      ]
    },
    {
      "cell_type": "code",
      "execution_count": 1,
      "metadata": {
        "id": "PN6fhiXV27_O"
      },
      "outputs": [],
      "source": [
        "import numpy as np\n",
        "import pandas as pd\n",
        "import matplotlib.pyplot as plt\n",
        "import seaborn as sns"
      ]
    },
    {
      "cell_type": "code",
      "metadata": {
        "colab": {
          "base_uri": "https://localhost:8080/"
        },
        "id": "f9cdda51",
        "outputId": "24a7c2f5-ceb4-42e3-a513-7c477567b1c1"
      },
      "source": [
        "!pip install yfinance"
      ],
      "execution_count": 2,
      "outputs": [
        {
          "output_type": "stream",
          "name": "stdout",
          "text": [
            "Requirement already satisfied: yfinance in /usr/local/lib/python3.12/dist-packages (0.2.66)\n",
            "Requirement already satisfied: pandas>=1.3.0 in /usr/local/lib/python3.12/dist-packages (from yfinance) (2.2.2)\n",
            "Requirement already satisfied: numpy>=1.16.5 in /usr/local/lib/python3.12/dist-packages (from yfinance) (2.0.2)\n",
            "Requirement already satisfied: requests>=2.31 in /usr/local/lib/python3.12/dist-packages (from yfinance) (2.32.4)\n",
            "Requirement already satisfied: multitasking>=0.0.7 in /usr/local/lib/python3.12/dist-packages (from yfinance) (0.0.12)\n",
            "Requirement already satisfied: platformdirs>=2.0.0 in /usr/local/lib/python3.12/dist-packages (from yfinance) (4.4.0)\n",
            "Requirement already satisfied: pytz>=2022.5 in /usr/local/lib/python3.12/dist-packages (from yfinance) (2025.2)\n",
            "Requirement already satisfied: frozendict>=2.3.4 in /usr/local/lib/python3.12/dist-packages (from yfinance) (2.4.6)\n",
            "Requirement already satisfied: peewee>=3.16.2 in /usr/local/lib/python3.12/dist-packages (from yfinance) (3.18.2)\n",
            "Requirement already satisfied: beautifulsoup4>=4.11.1 in /usr/local/lib/python3.12/dist-packages (from yfinance) (4.13.5)\n",
            "Requirement already satisfied: curl_cffi>=0.7 in /usr/local/lib/python3.12/dist-packages (from yfinance) (0.13.0)\n",
            "Requirement already satisfied: protobuf>=3.19.0 in /usr/local/lib/python3.12/dist-packages (from yfinance) (5.29.5)\n",
            "Requirement already satisfied: websockets>=13.0 in /usr/local/lib/python3.12/dist-packages (from yfinance) (15.0.1)\n",
            "Requirement already satisfied: soupsieve>1.2 in /usr/local/lib/python3.12/dist-packages (from beautifulsoup4>=4.11.1->yfinance) (2.8)\n",
            "Requirement already satisfied: typing-extensions>=4.0.0 in /usr/local/lib/python3.12/dist-packages (from beautifulsoup4>=4.11.1->yfinance) (4.15.0)\n",
            "Requirement already satisfied: cffi>=1.12.0 in /usr/local/lib/python3.12/dist-packages (from curl_cffi>=0.7->yfinance) (2.0.0)\n",
            "Requirement already satisfied: certifi>=2024.2.2 in /usr/local/lib/python3.12/dist-packages (from curl_cffi>=0.7->yfinance) (2025.8.3)\n",
            "Requirement already satisfied: python-dateutil>=2.8.2 in /usr/local/lib/python3.12/dist-packages (from pandas>=1.3.0->yfinance) (2.9.0.post0)\n",
            "Requirement already satisfied: tzdata>=2022.7 in /usr/local/lib/python3.12/dist-packages (from pandas>=1.3.0->yfinance) (2025.2)\n",
            "Requirement already satisfied: charset_normalizer<4,>=2 in /usr/local/lib/python3.12/dist-packages (from requests>=2.31->yfinance) (3.4.3)\n",
            "Requirement already satisfied: idna<4,>=2.5 in /usr/local/lib/python3.12/dist-packages (from requests>=2.31->yfinance) (3.10)\n",
            "Requirement already satisfied: urllib3<3,>=1.21.1 in /usr/local/lib/python3.12/dist-packages (from requests>=2.31->yfinance) (2.5.0)\n",
            "Requirement already satisfied: pycparser in /usr/local/lib/python3.12/dist-packages (from cffi>=1.12.0->curl_cffi>=0.7->yfinance) (2.23)\n",
            "Requirement already satisfied: six>=1.5 in /usr/local/lib/python3.12/dist-packages (from python-dateutil>=2.8.2->pandas>=1.3.0->yfinance) (1.17.0)\n"
          ]
        }
      ]
    },
    {
      "cell_type": "code",
      "metadata": {
        "id": "6cc0d8a3",
        "colab": {
          "base_uri": "https://localhost:8080/"
        },
        "outputId": "d5297c01-efe6-45ca-9c33-9a1c514ec0ad"
      },
      "source": [
        "import yfinance as yf\n",
        "\n",
        "# Define the ticker symbol for the desired stock\n",
        "ticker = yf.Ticker(\"TATAMOTORS.NS\")\n",
        "\n",
        "# Get historical market data for Apple\n",
        "hist_data = ticker.history(period=\"1y\") # data for the last 1 year\n",
        "\n",
        "print(hist_data)\n",
        "\n",
        "# Get stock info\n",
        "info = ticker.info\n",
        "print(info)\n",
        "\n",
        "# Get dividends\n",
        "dividends = ticker.dividends\n",
        "print(dividends)"
      ],
      "execution_count": 3,
      "outputs": [
        {
          "output_type": "stream",
          "name": "stdout",
          "text": [
            "                                 Open        High         Low       Close  \\\n",
            "Date                                                                        \n",
            "2024-10-07 00:00:00+05:30  933.969893  936.399020  907.200055  919.940491   \n",
            "2024-10-08 00:00:00+05:30  908.191512  916.916484  886.230306  911.959106   \n",
            "2024-10-09 00:00:00+05:30  918.899468  940.364936  917.610561  931.144226   \n",
            "2024-10-10 00:00:00+05:30  925.790207  935.556216  904.572608  920.584961   \n",
            "2024-10-11 00:00:00+05:30  924.055141  929.012519  920.584977  922.766235   \n",
            "...                               ...         ...         ...         ...   \n",
            "2025-09-30 00:00:00+05:30  672.000000  683.500000  666.650024  680.200012   \n",
            "2025-10-01 00:00:00+05:30  681.000000  720.000000  679.200012  718.349976   \n",
            "2025-10-02 00:00:00+05:30  718.349976  718.349976  718.349976  718.349976   \n",
            "2025-10-03 00:00:00+05:30  718.500000  739.700012  715.000000  716.099976   \n",
            "2025-10-06 00:00:00+05:30  718.000000  718.500000  703.950012  712.650024   \n",
            "\n",
            "                             Volume  Dividends  Stock Splits  \n",
            "Date                                                          \n",
            "2024-10-07 00:00:00+05:30  11772546        0.0           0.0  \n",
            "2024-10-08 00:00:00+05:30  21177886        0.0           0.0  \n",
            "2024-10-09 00:00:00+05:30  11557737        0.0           0.0  \n",
            "2024-10-10 00:00:00+05:30  13249851        0.0           0.0  \n",
            "2024-10-11 00:00:00+05:30   4459529        0.0           0.0  \n",
            "...                             ...        ...           ...  \n",
            "2025-09-30 00:00:00+05:30  15001606        0.0           0.0  \n",
            "2025-10-01 00:00:00+05:30  30163206        0.0           0.0  \n",
            "2025-10-02 00:00:00+05:30         0        0.0           0.0  \n",
            "2025-10-03 00:00:00+05:30  27786917        0.0           0.0  \n",
            "2025-10-06 00:00:00+05:30  10329761        0.0           0.0  \n",
            "\n",
            "[251 rows x 7 columns]\n",
            "{'address1': 'Ahura Centre', 'address2': '4th Floor 82 Mahakali Caves Road, MIDC Andheri (East)', 'city': 'Mumbai', 'zip': '400 093', 'country': 'India', 'phone': '91 22 6240 7101', 'website': 'https://www.tatamotors.com', 'industry': 'Auto Manufacturers', 'industryKey': 'auto-manufacturers', 'industryDisp': 'Auto Manufacturers', 'sector': 'Consumer Cyclical', 'sectorKey': 'consumer-cyclical', 'sectorDisp': 'Consumer Cyclical', 'longBusinessSummary': 'Tata Motors Limited designs, develops, manufactures, and sells various automotive vehicles. It operates through Automotive and Others segments. The company offers passenger cars; sports utility vehicles; intermediate and light commercial vehicles; small, medium, and heavy commercial vehicles; defense vehicles; pickups, wingers, buses, vans, and trucks; and electric vehicles, as well as related spare parts and accessories. It also manufactures engines for industrial applications, and aggregates comprising axles and transmissions for commercial vehicles; and factory automation equipment, as well as provides information technology, insurance broking, and vehicle financing services. The company offers its products under the Tata, Daewoo, Harrier, Safari, Curvv, Nexon, Altroz, Punch, Tiago, Tigor, Jaguar, and Land Rover brands. It operates in India, China, the United States, the United Kingdom, rest of Europe, and internationally. The company offers its products to fleet owners, transporters, government agencies, defense, public transport utilities, small and medium enterprises (SMEs), agriculture and rural segment, mining and construction industry, etc. Tata Motors Limited was incorporated in 1945 and is headquartered in Mumbai, India.', 'fullTimeEmployees': 86259, 'companyOfficers': [{'maxAge': 1, 'name': 'Mr. Pathamadai Balachandran Balaji', 'age': 55, 'title': 'Group Chief Financial Officer', 'yearBorn': 1969, 'fiscalYear': 2025, 'totalPay': 155604000, 'exercisedValue': 0, 'unexercisedValue': 0}, {'maxAge': 1, 'name': 'Mr. Maloy Kumar Gupta', 'age': 53, 'title': 'Compliance Officer & Company Secretary', 'yearBorn': 1971, 'fiscalYear': 2025, 'totalPay': 20873000, 'exercisedValue': 0, 'unexercisedValue': 0}, {'maxAge': 1, 'name': 'Mr. Girish Arun Wagh', 'age': 54, 'title': 'President of Commercial Vehicles Business Unit & Executive Director', 'yearBorn': 1970, 'fiscalYear': 2025, 'totalPay': 72258000, 'exercisedValue': 0, 'unexercisedValue': 0}, {'maxAge': 1, 'name': 'Mr. Petkar M. Rajendra Be, M Tech', 'age': 57, 'title': 'CTO & President', 'yearBorn': 1967, 'fiscalYear': 2025, 'exercisedValue': 0, 'unexercisedValue': 0}, {'maxAge': 1, 'name': 'Mr. Rajesh  Kannan', 'title': 'President and Chief Digital & Information Officer', 'fiscalYear': 2025, 'exercisedValue': 0, 'unexercisedValue': 0}, {'maxAge': 1, 'name': 'Ms. Namrata  Divekar', 'title': 'Head of Treasury and Investor Relations', 'fiscalYear': 2025, 'exercisedValue': 0, 'unexercisedValue': 0}, {'maxAge': 1, 'name': 'Mr. Sudeep  Bhalla', 'title': 'Head of Corporate Communications', 'fiscalYear': 2025, 'exercisedValue': 0, 'unexercisedValue': 0}, {'maxAge': 1, 'name': 'Mr. Shubhranshu  Singh', 'title': 'Vice President of Marketing of Domestic & International business', 'fiscalYear': 2025, 'exercisedValue': 0, 'unexercisedValue': 0}, {'maxAge': 1, 'name': 'Mr. Ravneet  Singh', 'title': 'General Manager & Head of Corporate HR', 'fiscalYear': 2025, 'exercisedValue': 0, 'unexercisedValue': 0}, {'maxAge': 1, 'name': 'Mr. R.  Ramakrishnan', 'age': 61, 'title': 'Global Head of Customer Care', 'yearBorn': 1963, 'fiscalYear': 2025, 'exercisedValue': 0, 'unexercisedValue': 0}], 'auditRisk': 6, 'boardRisk': 4, 'compensationRisk': 8, 'shareHolderRightsRisk': 6, 'overallRisk': 7, 'governanceEpochDate': 1759276800, 'compensationAsOfEpochDate': 1767139200, 'executiveTeam': [], 'maxAge': 86400, 'priceHint': 2, 'previousClose': 716.1, 'open': 718.0, 'dayLow': 703.95, 'dayHigh': 718.5, 'regularMarketPreviousClose': 716.1, 'regularMarketOpen': 718.0, 'regularMarketDayLow': 703.95, 'regularMarketDayHigh': 718.5, 'dividendRate': 6.0, 'dividendYield': 0.84, 'exDividendDate': 1748995200, 'payoutRatio': 0.098500006, 'fiveYearAvgDividendYield': 1.11, 'beta': 1.012, 'trailingPE': 11.69429, 'volume': 10329761, 'regularMarketVolume': 10329761, 'averageVolume': 10803401, 'averageVolume10days': 17919969, 'averageDailyVolume10Day': 17919969, 'bid': 0.0, 'ask': 0.0, 'bidSize': 0, 'askSize': 0, 'marketCap': 2624173113344, 'fiftyTwoWeekLow': 535.75, 'fiftyTwoWeekHigh': 948.45, 'allTimeHigh': 1179.0, 'allTimeLow': 11.02834, 'priceToSalesTrailing12Months': 0.6004973, 'fiftyDayAverage': 684.498, 'twoHundredDayAverage': 688.51825, 'trailingAnnualDividendRate': 0.0, 'trailingAnnualDividendYield': 0.0, 'currency': 'INR', 'tradeable': False, 'enterpriseValue': 2810673102848, 'forwardPE': 10.971483, 'profitMargins': 0.048600003, 'floatShares': 1959103360, 'sharesOutstanding': 3682274653, 'heldPercentInsiders': 0.44127998, 'heldPercentInstitutions': 0.23555, 'impliedSharesOutstanding': 3682274653, 'bookValue': 315.493, 'priceToBook': 2.2588456, 'lastFiscalYearEnd': 1743379200, 'nextFiscalYearEnd': 1774915200, 'mostRecentQuarter': 1751241600, 'earningsQuarterlyGrowth': -0.295, 'netIncomeToCommon': 212399996928, 'trailingEps': 60.94, 'lastSplitFactor': '5:1', 'lastSplitDate': 1315785600, 'enterpriseToRevenue': 0.643, 'enterpriseToEbitda': 6.666, '52WeekChange': -0.22821575, 'SandP52WeekChange': 0.17904854, 'lastDividendValue': 6.0, 'lastDividendDate': 1748995200, 'quoteType': 'EQUITY', 'currentPrice': 712.65, 'targetHighPrice': 1300.0, 'targetLowPrice': 575.0, 'targetMeanPrice': 766.8889, 'targetMedianPrice': 732.0, 'recommendationMean': 2.62963, 'recommendationKey': 'hold', 'numberOfAnalystOpinions': 27, 'totalCash': 674279981056, 'totalCashPerShare': 183.161, 'ebitda': 421660000256, 'totalDebt': 770700017664, 'totalRevenue': 4369999986688, 'debtToEquity': 61.549, 'revenuePerShare': 1187.161, 'grossProfits': 1954049949696, 'revenueGrowth': -0.034, 'grossMargins': 0.44715, 'ebitdaMargins': 0.09649, 'operatingMargins': 0.05673, 'financialCurrency': 'INR', 'symbol': 'TATAMOTORS.NS', 'language': 'en-US', 'region': 'US', 'typeDisp': 'Equity', 'quoteSourceName': 'Delayed Quote', 'triggerable': True, 'customPriceAlertConfidence': 'HIGH', 'regularMarketChangePercent': -0.4817695, 'regularMarketPrice': 712.65, 'marketState': 'POSTPOST', 'corporateActions': [], 'regularMarketTime': 1759744801, 'exchange': 'NSI', 'messageBoardId': 'finmb_874652', 'exchangeTimezoneName': 'Asia/Kolkata', 'exchangeTimezoneShortName': 'IST', 'gmtOffSetMilliseconds': 19800000, 'market': 'in_market', 'esgPopulated': False, 'shortName': 'TATA MOTORS LIMITED', 'longName': 'Tata Motors Limited', 'fiftyDayAverageChange': 28.152039, 'fiftyDayAverageChangePercent': 0.04112801, 'twoHundredDayAverageChange': 24.131775, 'twoHundredDayAverageChangePercent': 0.035048854, 'sourceInterval': 15, 'exchangeDataDelayedBy': 15, 'averageAnalystRating': '2.6 - Hold', 'cryptoTradeable': False, 'hasPrePostMarketData': False, 'firstTradeDateMilliseconds': 662787900000, 'regularMarketChange': -3.4499512, 'regularMarketDayRange': '703.95 - 718.5', 'fullExchangeName': 'NSE', 'averageDailyVolume3Month': 10803401, 'fiftyTwoWeekLowChange': 176.90002, 'fiftyTwoWeekLowChangePercent': 0.33019137, 'fiftyTwoWeekRange': '535.75 - 948.45', 'fiftyTwoWeekHighChange': -235.79999, 'fiftyTwoWeekHighChangePercent': -0.24861614, 'fiftyTwoWeekChangePercent': -22.821575, 'earningsTimestamp': 1763114400, 'earningsTimestampStart': 1763114400, 'earningsTimestampEnd': 1763114400, 'earningsCallTimestampStart': 1754658000, 'earningsCallTimestampEnd': 1754658000, 'isEarningsDateEstimate': True, 'epsTrailingTwelveMonths': 60.94, 'epsCurrentYear': 52.58094, 'priceEpsCurrentYear': 13.5533905, 'trailingPegRatio': None}\n",
            "Date\n",
            "1994-06-03 00:00:00+05:30    0.479076\n",
            "1995-06-07 00:00:00+05:30    0.598846\n",
            "1996-06-11 00:00:00+05:30    1.149784\n",
            "1997-05-12 00:00:00+05:30    1.533045\n",
            "1998-06-09 00:00:00+05:30    1.053968\n",
            "1999-06-17 00:00:00+05:30    0.574892\n",
            "2000-06-13 00:00:00+05:30    0.479076\n",
            "2003-06-30 00:00:00+05:30    0.766522\n",
            "2004-02-12 00:00:00+05:30    0.766522\n",
            "2004-06-22 00:00:00+05:30    0.766522\n",
            "2005-06-23 00:00:00+05:30    2.395382\n",
            "2006-06-23 00:00:00+05:30    2.491198\n",
            "2007-06-01 00:00:00+05:30    2.874459\n",
            "2008-06-16 00:00:00+05:30    2.874459\n",
            "2009-08-03 00:00:00+05:30    1.187265\n",
            "2010-08-10 00:00:00+05:30    2.968163\n",
            "2011-07-19 00:00:00+05:30    3.957551\n",
            "2012-07-18 00:00:00+05:30    3.957551\n",
            "2013-07-30 00:00:00+05:30    1.978776\n",
            "2014-07-09 00:00:00+05:30    1.978776\n",
            "2016-07-18 00:00:00+05:30    0.200000\n",
            "2023-07-28 00:00:00+05:30    2.000000\n",
            "2024-06-11 00:00:00+05:30    6.000000\n",
            "2025-06-04 00:00:00+05:30    6.000000\n",
            "Name: Dividends, dtype: float64\n"
          ]
        }
      ]
    },
    {
      "cell_type": "code",
      "source": [
        "!pip install ta\n",
        "\n"
      ],
      "metadata": {
        "colab": {
          "base_uri": "https://localhost:8080/"
        },
        "id": "K6zcYvdGuQec",
        "outputId": "b459db6b-5ae2-402f-83a8-c54bdc01ad99"
      },
      "execution_count": 4,
      "outputs": [
        {
          "output_type": "stream",
          "name": "stdout",
          "text": [
            "Collecting ta\n",
            "  Downloading ta-0.11.0.tar.gz (25 kB)\n",
            "  Preparing metadata (setup.py) ... \u001b[?25l\u001b[?25hdone\n",
            "Requirement already satisfied: numpy in /usr/local/lib/python3.12/dist-packages (from ta) (2.0.2)\n",
            "Requirement already satisfied: pandas in /usr/local/lib/python3.12/dist-packages (from ta) (2.2.2)\n",
            "Requirement already satisfied: python-dateutil>=2.8.2 in /usr/local/lib/python3.12/dist-packages (from pandas->ta) (2.9.0.post0)\n",
            "Requirement already satisfied: pytz>=2020.1 in /usr/local/lib/python3.12/dist-packages (from pandas->ta) (2025.2)\n",
            "Requirement already satisfied: tzdata>=2022.7 in /usr/local/lib/python3.12/dist-packages (from pandas->ta) (2025.2)\n",
            "Requirement already satisfied: six>=1.5 in /usr/local/lib/python3.12/dist-packages (from python-dateutil>=2.8.2->pandas->ta) (1.17.0)\n",
            "Building wheels for collected packages: ta\n",
            "  Building wheel for ta (setup.py) ... \u001b[?25l\u001b[?25hdone\n",
            "  Created wheel for ta: filename=ta-0.11.0-py3-none-any.whl size=29412 sha256=303db700e4f470d1608426df5bc8b014b2eb8ab4a9a882356fb5c457ca729f38\n",
            "  Stored in directory: /root/.cache/pip/wheels/5c/a1/5f/c6b85a7d9452057be4ce68a8e45d77ba34234a6d46581777c6\n",
            "Successfully built ta\n",
            "Installing collected packages: ta\n",
            "Successfully installed ta-0.11.0\n"
          ]
        }
      ]
    },
    {
      "cell_type": "code",
      "source": [
        "import ta\n",
        "\n",
        "# Example: df contains columns ['Open', 'High', 'Low', 'Close', 'Volume']\n",
        "def add_technical_indicators(ticker):\n",
        "    # Simple Moving Average (SMA)\n",
        "    ticker['SMA_20'] = ta.trend.sma_indicator(ticker['Close'], window=20)\n",
        "    ticker['SMA_50'] = ta.trend.sma_indicator(ticker['Close'], window=50)\n",
        "\n",
        "    # Exponential Moving Average (EMA)\n",
        "    ticker['EMA_20'] = ta.trend.ema_indicator(ticker['Close'], window=20)\n",
        "    ticker['EMA_50'] = ta.trend.ema_indicator(ticker['Close'], window=50)\n",
        "\n",
        "    # Relative Strength Index (RSI)\n",
        "    ticker['RSI_14'] = ta.momentum.rsi(ticker['Close'], window=14)\n",
        "\n",
        "    # MACD\n",
        "    ticker['MACD'] = ta.trend.macd(ticker['Close'])\n",
        "    ticker['MACD_Signal'] = ta.trend.macd_signal(ticker['Close'])\n",
        "    ticker['MACD_Hist'] = ta.trend.macd_diff(ticker['Close'])\n",
        "\n",
        "    # Bollinger Bands\n",
        "    bb = ta.volatility.BollingerBands(ticker['Close'], window=20, window_dev=2)\n",
        "    ticker['BB_High'] = bb.bollinger_hband()\n",
        "    ticker['BB_Low'] = bb.bollinger_lband()\n",
        "    ticker['BB_Width'] = ticker['BB_High'] - ticker['BB_Low']\n",
        "\n",
        "    # Average True Range (ATR)\n",
        "    ticker['ATR_14'] = ta.volatility.average_true_range(ticker['High'], ticker['Low'], ticker['Close'], window=14)\n",
        "    # Drop NaN values created by rolling indicators\n",
        "    ticker.dropna(inplace=True)\n",
        "    return ticker\n",
        "\n"
      ],
      "metadata": {
        "id": "GPB6Ks-o7cY2"
      },
      "execution_count": 5,
      "outputs": []
    },
    {
      "cell_type": "code",
      "metadata": {
        "colab": {
          "base_uri": "https://localhost:8080/"
        },
        "id": "9c10bc7c",
        "outputId": "0d35c09e-9c8b-43cf-d246-c14d43ec7056"
      },
      "source": [
        "hist_data = add_technical_indicators(hist_data)\n",
        "print(hist_data.head())"
      ],
      "execution_count": 6,
      "outputs": [
        {
          "output_type": "stream",
          "name": "stdout",
          "text": [
            "                                 Open        High         Low       Close  \\\n",
            "Date                                                                        \n",
            "2024-12-17 00:00:00+05:30  778.803950  789.561434  771.367884  773.102966   \n",
            "2024-12-18 00:00:00+05:30  767.401984  767.649853  747.572475  749.257996   \n",
            "2024-12-19 00:00:00+05:30  738.103951  749.357174  735.079963  737.707336   \n",
            "2024-12-20 00:00:00+05:30  737.955186  743.160432  715.349557  717.877808   \n",
            "2024-12-23 00:00:00+05:30  727.445547  728.139592  711.581940  716.043579   \n",
            "\n",
            "                             Volume  Dividends  Stock Splits      SMA_20  \\\n",
            "Date                                                                       \n",
            "2024-12-17 00:00:00+05:30  10270253        0.0           0.0  783.523398   \n",
            "2024-12-18 00:00:00+05:30  19085263        0.0           0.0  782.160117   \n",
            "2024-12-19 00:00:00+05:30  17119599        0.0           0.0  780.682822   \n",
            "2024-12-20 00:00:00+05:30  17962656        0.0           0.0  777.363858   \n",
            "2024-12-23 00:00:00+05:30   9653868        0.0           0.0  773.675571   \n",
            "\n",
            "                               SMA_50      EMA_20      EMA_50     RSI_14  \\\n",
            "Date                                                                       \n",
            "2024-12-17 00:00:00+05:30  826.816178  789.257574  819.535056  39.555799   \n",
            "2024-12-18 00:00:00+05:30  823.402528  785.448090  816.779093  32.451909   \n",
            "2024-12-19 00:00:00+05:30  819.917493  780.901352  813.678239  29.672018   \n",
            "2024-12-20 00:00:00+05:30  815.652164  774.899110  809.921360  25.615280   \n",
            "2024-12-23 00:00:00+05:30  811.561337  769.293821  806.239878  25.271105   \n",
            "\n",
            "                                MACD  MACD_Signal  MACD_Hist     BB_High  \\\n",
            "Date                                                                       \n",
            "2024-12-17 00:00:00+05:30 -10.507473   -12.775443   2.267971  802.427040   \n",
            "2024-12-18 00:00:00+05:30 -12.526773   -12.725709   0.198936  806.137976   \n",
            "2024-12-19 00:00:00+05:30 -14.887511   -13.158070  -1.729441  810.964417   \n",
            "2024-12-20 00:00:00+05:30 -18.149276   -14.156311  -3.992965  818.097773   \n",
            "2024-12-23 00:00:00+05:30 -20.644281   -15.453905  -5.190376  821.903108   \n",
            "\n",
            "                               BB_Low   BB_Width     ATR_14  \n",
            "Date                                                         \n",
            "2024-12-17 00:00:00+05:30  764.619755  37.807285  18.667145  \n",
            "2024-12-18 00:00:00+05:30  758.182257  47.955719  19.157384  \n",
            "2024-12-19 00:00:00+05:30  750.401226  60.563192  18.808800  \n",
            "2024-12-20 00:00:00+05:30  736.629943  81.467831  19.451806  \n",
            "2024-12-23 00:00:00+05:30  725.448033  96.455075  19.245080  \n"
          ]
        }
      ]
    }
  ]
}